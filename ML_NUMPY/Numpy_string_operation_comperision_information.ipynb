{
 "cells": [
  {
   "cell_type": "code",
   "execution_count": 1,
   "id": "f97d20f3",
   "metadata": {},
   "outputs": [],
   "source": [
    "import numpy as np\n"
   ]
  },
  {
   "cell_type": "code",
   "execution_count": 2,
   "id": "cab497fa",
   "metadata": {},
   "outputs": [],
   "source": [
    "name_1 = \"Learning Python\""
   ]
  },
  {
   "cell_type": "code",
   "execution_count": 3,
   "id": "e2d39344",
   "metadata": {},
   "outputs": [],
   "source": [
    "name_2 = \"Learning Numpy\""
   ]
  },
  {
   "cell_type": "code",
   "execution_count": 4,
   "id": "d989c5f5",
   "metadata": {},
   "outputs": [
    {
     "data": {
      "text/plain": [
       "array('Learning PythonLearning Numpy', dtype='<U29')"
      ]
     },
     "execution_count": 4,
     "metadata": {},
     "output_type": "execute_result"
    }
   ],
   "source": [
    "np.char.add(name_1,name_2) # adding or merging Two string\n"
   ]
  },
  {
   "cell_type": "code",
   "execution_count": 5,
   "id": "ba7a1a50",
   "metadata": {},
   "outputs": [
    {
     "data": {
      "text/plain": [
       "array('learning python', dtype='<U15')"
      ]
     },
     "execution_count": 5,
     "metadata": {},
     "output_type": "execute_result"
    }
   ],
   "source": [
    "np.char.lower(name_1) #Convert Uppercase into Lower case."
   ]
  },
  {
   "cell_type": "code",
   "execution_count": 6,
   "id": "e6535467",
   "metadata": {},
   "outputs": [
    {
     "data": {
      "text/plain": [
       "array('LEARNING PYTHON', dtype='<U15')"
      ]
     },
     "execution_count": 6,
     "metadata": {},
     "output_type": "execute_result"
    }
   ],
   "source": [
    "np.char.upper(name_1)# convert lowercase into uppercase."
   ]
  },
  {
   "cell_type": "code",
   "execution_count": 7,
   "id": "d497180e",
   "metadata": {
    "scrolled": true
   },
   "outputs": [
    {
     "data": {
      "text/plain": [
       "array('----------------------Learning Python-----------------------',\n",
       "      dtype='<U60')"
      ]
     },
     "execution_count": 7,
     "metadata": {},
     "output_type": "execute_result"
    }
   ],
   "source": [
    "np.char.center(name_1,60,fillchar=\"-\")# Align char/string in the center."
   ]
  },
  {
   "cell_type": "code",
   "execution_count": 8,
   "id": "598dfc60",
   "metadata": {},
   "outputs": [
    {
     "data": {
      "text/plain": [
       "array(list(['Learning', 'Python']), dtype=object)"
      ]
     },
     "execution_count": 8,
     "metadata": {},
     "output_type": "execute_result"
    }
   ],
   "source": [
    "np.char.split(name_1)# split objects in the string"
   ]
  },
  {
   "cell_type": "code",
   "execution_count": 9,
   "id": "39abb604",
   "metadata": {},
   "outputs": [
    {
     "data": {
      "text/plain": [
       "array(list(['i love ', 'my country']), dtype=object)"
      ]
     },
     "execution_count": 9,
     "metadata": {},
     "output_type": "execute_result"
    }
   ],
   "source": [
    "np.char.splitlines(\"i love \\nmy country\") # split \\n in the string."
   ]
  },
  {
   "cell_type": "code",
   "execution_count": 10,
   "id": "bd9cab00",
   "metadata": {},
   "outputs": [],
   "source": [
    "str4=\"dmy\"\n",
    "str5=\"dmy\""
   ]
  },
  {
   "cell_type": "code",
   "execution_count": 11,
   "id": "9aa28b1a",
   "metadata": {},
   "outputs": [
    {
     "data": {
      "text/plain": [
       "array(['d:m:y', 'd/m/y'], dtype='<U5')"
      ]
     },
     "execution_count": 11,
     "metadata": {},
     "output_type": "execute_result"
    }
   ],
   "source": [
    "np.char.join([\":\",\"/\"],[str4,str5]) # joining colon(:) or slash(/) or any char with every word of a string. "
   ]
  },
  {
   "cell_type": "code",
   "execution_count": 13,
   "id": "8b4ff8cf",
   "metadata": {},
   "outputs": [
    {
     "data": {
      "text/plain": [
       "array('Learning Machine Learning and Artificial Inteligence', dtype='<U52')"
      ]
     },
     "execution_count": 13,
     "metadata": {},
     "output_type": "execute_result"
    }
   ],
   "source": [
    "np.char.replace(name_1,\"Python\",\"Machine Learning and Artificial Inteligence\") # Repalcing Particular word from the string and adding new word in place of them."
   ]
  },
  {
   "cell_type": "code",
   "execution_count": 14,
   "id": "1f2dd3bd",
   "metadata": {},
   "outputs": [
    {
     "data": {
      "text/plain": [
       "'Learning Python'"
      ]
     },
     "execution_count": 14,
     "metadata": {},
     "output_type": "execute_result"
    }
   ],
   "source": [
    "name_1\n"
   ]
  },
  {
   "cell_type": "code",
   "execution_count": 15,
   "id": "9fb9a022",
   "metadata": {},
   "outputs": [
    {
     "data": {
      "text/plain": [
       "array(True)"
      ]
     },
     "execution_count": 15,
     "metadata": {},
     "output_type": "execute_result"
    }
   ],
   "source": [
    "np.char.equal(str4,str5)# Cheaking wheather the string is equal or not.if equal return true else false "
   ]
  },
  {
   "cell_type": "code",
   "execution_count": 19,
   "id": "7d0544b4",
   "metadata": {},
   "outputs": [
    {
     "data": {
      "text/plain": [
       "array(3)"
      ]
     },
     "execution_count": 19,
     "metadata": {},
     "output_type": "execute_result"
    }
   ],
   "source": [
    "np.char.count(name_1,\"n\") # count funtion count the number of character in that particular string."
   ]
  },
  {
   "cell_type": "code",
   "execution_count": 20,
   "id": "6d245892",
   "metadata": {},
   "outputs": [
    {
     "data": {
      "text/plain": [
       "array(9)"
      ]
     },
     "execution_count": 20,
     "metadata": {},
     "output_type": "execute_result"
    }
   ],
   "source": [
    "np.char.find(name_1,\"Python\")"
   ]
  },
  {
   "cell_type": "code",
   "execution_count": null,
   "id": "62984f9b",
   "metadata": {},
   "outputs": [],
   "source": []
  }
 ],
 "metadata": {
  "kernelspec": {
   "display_name": "Python 3 (ipykernel)",
   "language": "python",
   "name": "python3"
  },
  "language_info": {
   "codemirror_mode": {
    "name": "ipython",
    "version": 3
   },
   "file_extension": ".py",
   "mimetype": "text/x-python",
   "name": "python",
   "nbconvert_exporter": "python",
   "pygments_lexer": "ipython3",
   "version": "3.10.2"
  }
 },
 "nbformat": 4,
 "nbformat_minor": 5
}
