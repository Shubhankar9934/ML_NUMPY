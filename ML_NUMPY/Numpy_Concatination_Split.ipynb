{
 "cells": [
  {
   "cell_type": "markdown",
   "id": "bebedcc0",
   "metadata": {},
   "source": [
    "# Python Array NumPy Concatination and Spliting."
   ]
  },
  {
   "cell_type": "code",
   "execution_count": 1,
   "id": "d5050286",
   "metadata": {},
   "outputs": [],
   "source": [
    "import numpy as np"
   ]
  },
  {
   "cell_type": "code",
   "execution_count": 2,
   "id": "1b228014",
   "metadata": {},
   "outputs": [],
   "source": [
    "arr1=np.arange(1,17).reshape(4,4)"
   ]
  },
  {
   "cell_type": "code",
   "execution_count": 3,
   "id": "9cb8bd50",
   "metadata": {},
   "outputs": [
    {
     "name": "stdout",
     "output_type": "stream",
     "text": [
      "[[ 1  2  3  4]\n",
      " [ 5  6  7  8]\n",
      " [ 9 10 11 12]\n",
      " [13 14 15 16]]\n"
     ]
    }
   ],
   "source": [
    "print(arr1)"
   ]
  },
  {
   "cell_type": "code",
   "execution_count": 4,
   "id": "2bac07cc",
   "metadata": {},
   "outputs": [],
   "source": [
    "arr2=np.arange(17,33).reshape(4,4)"
   ]
  },
  {
   "cell_type": "code",
   "execution_count": 5,
   "id": "afd1c481",
   "metadata": {},
   "outputs": [
    {
     "name": "stdout",
     "output_type": "stream",
     "text": [
      "[[17 18 19 20]\n",
      " [21 22 23 24]\n",
      " [25 26 27 28]\n",
      " [29 30 31 32]]\n"
     ]
    }
   ],
   "source": [
    "print(arr2)"
   ]
  },
  {
   "cell_type": "code",
   "execution_count": 6,
   "id": "c8c1d62f",
   "metadata": {},
   "outputs": [],
   "source": [
    "list1=[1,2,3,4]"
   ]
  },
  {
   "cell_type": "code",
   "execution_count": 7,
   "id": "46a6416e",
   "metadata": {},
   "outputs": [],
   "source": [
    "list2=[5,6,7,8]"
   ]
  },
  {
   "cell_type": "code",
   "execution_count": 8,
   "id": "fc510e98",
   "metadata": {},
   "outputs": [
    {
     "data": {
      "text/plain": [
       "[1, 2, 3, 4, 5, 6, 7, 8]"
      ]
     },
     "execution_count": 8,
     "metadata": {},
     "output_type": "execute_result"
    }
   ],
   "source": [
    "list1+list2 # Concatination of a list."
   ]
  },
  {
   "cell_type": "code",
   "execution_count": 9,
   "id": "0ccebe5d",
   "metadata": {},
   "outputs": [
    {
     "data": {
      "text/plain": [
       "array([[ 1,  2,  3,  4],\n",
       "       [ 5,  6,  7,  8],\n",
       "       [ 9, 10, 11, 12],\n",
       "       [13, 14, 15, 16],\n",
       "       [17, 18, 19, 20],\n",
       "       [21, 22, 23, 24],\n",
       "       [25, 26, 27, 28],\n",
       "       [29, 30, 31, 32]])"
      ]
     },
     "execution_count": 9,
     "metadata": {},
     "output_type": "execute_result"
    }
   ],
   "source": [
    "np.concatenate((arr1,arr2)) # Column wise Concatination."
   ]
  },
  {
   "cell_type": "code",
   "execution_count": 10,
   "id": "8b327de7",
   "metadata": {},
   "outputs": [
    {
     "name": "stdout",
     "output_type": "stream",
     "text": [
      "[[ 1  2  3  4]\n",
      " [ 5  6  7  8]\n",
      " [ 9 10 11 12]\n",
      " [13 14 15 16]]\n",
      "[[17 18 19 20]\n",
      " [21 22 23 24]\n",
      " [25 26 27 28]\n",
      " [29 30 31 32]]\n"
     ]
    }
   ],
   "source": [
    "print(arr1)\n",
    "print(arr2)"
   ]
  },
  {
   "cell_type": "code",
   "execution_count": 11,
   "id": "68d76e6e",
   "metadata": {},
   "outputs": [
    {
     "data": {
      "text/plain": [
       "array([[ 1,  2,  3,  4, 17, 18, 19, 20],\n",
       "       [ 5,  6,  7,  8, 21, 22, 23, 24],\n",
       "       [ 9, 10, 11, 12, 25, 26, 27, 28],\n",
       "       [13, 14, 15, 16, 29, 30, 31, 32]])"
      ]
     },
     "execution_count": 11,
     "metadata": {},
     "output_type": "execute_result"
    }
   ],
   "source": [
    "np.concatenate((arr1,arr2),axis = 1) # Row wise Concatination"
   ]
  },
  {
   "cell_type": "code",
   "execution_count": 12,
   "id": "75c82286",
   "metadata": {},
   "outputs": [
    {
     "data": {
      "text/plain": [
       "array([[ 1,  2,  3,  4],\n",
       "       [ 5,  6,  7,  8],\n",
       "       [ 9, 10, 11, 12],\n",
       "       [13, 14, 15, 16],\n",
       "       [17, 18, 19, 20],\n",
       "       [21, 22, 23, 24],\n",
       "       [25, 26, 27, 28],\n",
       "       [29, 30, 31, 32]])"
      ]
     },
     "execution_count": 12,
     "metadata": {},
     "output_type": "execute_result"
    }
   ],
   "source": [
    "np.vstack((arr1,arr2)) # Vertical Concatination ."
   ]
  },
  {
   "cell_type": "code",
   "execution_count": 13,
   "id": "bc6a61f7",
   "metadata": {},
   "outputs": [
    {
     "data": {
      "text/plain": [
       "array([[ 1,  2,  3,  4, 17, 18, 19, 20],\n",
       "       [ 5,  6,  7,  8, 21, 22, 23, 24],\n",
       "       [ 9, 10, 11, 12, 25, 26, 27, 28],\n",
       "       [13, 14, 15, 16, 29, 30, 31, 32]])"
      ]
     },
     "execution_count": 13,
     "metadata": {},
     "output_type": "execute_result"
    }
   ],
   "source": [
    "np.hstack((arr1,arr2)) # Horizontal Concatenation"
   ]
  },
  {
   "cell_type": "code",
   "execution_count": 21,
   "id": "dcda9875",
   "metadata": {},
   "outputs": [],
   "source": [
    "arr3=np.arange(3,34,2).reshape(4,4)"
   ]
  },
  {
   "cell_type": "code",
   "execution_count": 22,
   "id": "ee1208e0",
   "metadata": {},
   "outputs": [
    {
     "name": "stdout",
     "output_type": "stream",
     "text": [
      "[[ 3  5  7  9]\n",
      " [11 13 15 17]\n",
      " [19 21 23 25]\n",
      " [27 29 31 33]]\n"
     ]
    }
   ],
   "source": [
    "print(arr3)"
   ]
  },
  {
   "cell_type": "code",
   "execution_count": 23,
   "id": "639509e2",
   "metadata": {},
   "outputs": [
    {
     "data": {
      "text/plain": [
       "array([[ 1,  2,  3,  4],\n",
       "       [ 5,  6,  7,  8],\n",
       "       [ 9, 10, 11, 12],\n",
       "       [13, 14, 15, 16],\n",
       "       [17, 18, 19, 20],\n",
       "       [21, 22, 23, 24],\n",
       "       [25, 26, 27, 28],\n",
       "       [29, 30, 31, 32],\n",
       "       [ 3,  5,  7,  9],\n",
       "       [11, 13, 15, 17],\n",
       "       [19, 21, 23, 25],\n",
       "       [27, 29, 31, 33]])"
      ]
     },
     "execution_count": 23,
     "metadata": {},
     "output_type": "execute_result"
    }
   ],
   "source": [
    "np.vstack((arr1,arr2,arr3))"
   ]
  },
  {
   "cell_type": "code",
   "execution_count": 24,
   "id": "42d5e068",
   "metadata": {},
   "outputs": [
    {
     "data": {
      "text/plain": [
       "array([[ 1,  2,  3,  4, 17, 18, 19, 20,  3,  5,  7,  9],\n",
       "       [ 5,  6,  7,  8, 21, 22, 23, 24, 11, 13, 15, 17],\n",
       "       [ 9, 10, 11, 12, 25, 26, 27, 28, 19, 21, 23, 25],\n",
       "       [13, 14, 15, 16, 29, 30, 31, 32, 27, 29, 31, 33]])"
      ]
     },
     "execution_count": 24,
     "metadata": {},
     "output_type": "execute_result"
    }
   ],
   "source": [
    "np.hstack((arr1,arr2,arr3))"
   ]
  },
  {
   "cell_type": "markdown",
   "id": "1b5a40d5",
   "metadata": {},
   "source": [
    "# Split"
   ]
  },
  {
   "cell_type": "code",
   "execution_count": 25,
   "id": "d329639a",
   "metadata": {},
   "outputs": [
    {
     "data": {
      "text/plain": [
       "[array([[1, 2, 3, 4],\n",
       "        [5, 6, 7, 8]]),\n",
       " array([[ 9, 10, 11, 12],\n",
       "        [13, 14, 15, 16]])]"
      ]
     },
     "execution_count": 25,
     "metadata": {},
     "output_type": "execute_result"
    }
   ],
   "source": [
    "np.split(arr1,2)"
   ]
  },
  {
   "cell_type": "code",
   "execution_count": 26,
   "id": "27021536",
   "metadata": {},
   "outputs": [
    {
     "data": {
      "text/plain": [
       "[array([[17, 18, 19, 20]]),\n",
       " array([[21, 22, 23, 24]]),\n",
       " array([[25, 26, 27, 28]]),\n",
       " array([[29, 30, 31, 32]])]"
      ]
     },
     "execution_count": 26,
     "metadata": {},
     "output_type": "execute_result"
    }
   ],
   "source": [
    "np.split(arr2,4)"
   ]
  },
  {
   "cell_type": "code",
   "execution_count": 32,
   "id": "f0231d13",
   "metadata": {},
   "outputs": [
    {
     "data": {
      "text/plain": [
       "[array([[1, 2, 3, 4],\n",
       "        [5, 6, 7, 8]]),\n",
       " array([[ 9, 10, 11, 12],\n",
       "        [13, 14, 15, 16]])]"
      ]
     },
     "execution_count": 32,
     "metadata": {},
     "output_type": "execute_result"
    }
   ],
   "source": [
    "np.split(arr1,2)"
   ]
  },
  {
   "cell_type": "code",
   "execution_count": 33,
   "id": "f33d49e9",
   "metadata": {},
   "outputs": [],
   "source": [
    "list10=np.split(arr1,2)"
   ]
  },
  {
   "cell_type": "code",
   "execution_count": 34,
   "id": "230878ed",
   "metadata": {},
   "outputs": [
    {
     "data": {
      "text/plain": [
       "list"
      ]
     },
     "execution_count": 34,
     "metadata": {},
     "output_type": "execute_result"
    }
   ],
   "source": [
    "type(list10)"
   ]
  },
  {
   "cell_type": "code",
   "execution_count": 35,
   "id": "4d43b12b",
   "metadata": {},
   "outputs": [
    {
     "data": {
      "text/plain": [
       "array([[1, 2, 3, 4],\n",
       "       [5, 6, 7, 8]])"
      ]
     },
     "execution_count": 35,
     "metadata": {},
     "output_type": "execute_result"
    }
   ],
   "source": [
    "list10[0]"
   ]
  },
  {
   "cell_type": "code",
   "execution_count": 36,
   "id": "f8a28ca1",
   "metadata": {},
   "outputs": [
    {
     "data": {
      "text/plain": [
       "array([[ 9, 10, 11, 12],\n",
       "       [13, 14, 15, 16]])"
      ]
     },
     "execution_count": 36,
     "metadata": {},
     "output_type": "execute_result"
    }
   ],
   "source": [
    "list10[1]"
   ]
  },
  {
   "cell_type": "code",
   "execution_count": 38,
   "id": "c1b4b078",
   "metadata": {},
   "outputs": [
    {
     "data": {
      "text/plain": [
       "numpy.ndarray"
      ]
     },
     "execution_count": 38,
     "metadata": {},
     "output_type": "execute_result"
    }
   ],
   "source": [
    "type(list10[0])"
   ]
  },
  {
   "cell_type": "code",
   "execution_count": 39,
   "id": "58d3d3fa",
   "metadata": {},
   "outputs": [
    {
     "data": {
      "text/plain": [
       "[array([[1, 2, 3, 4],\n",
       "        [5, 6, 7, 8]]),\n",
       " array([[ 9, 10, 11, 12],\n",
       "        [13, 14, 15, 16]])]"
      ]
     },
     "execution_count": 39,
     "metadata": {},
     "output_type": "execute_result"
    }
   ],
   "source": [
    "np.split(arr1,2,axis=0)"
   ]
  },
  {
   "cell_type": "code",
   "execution_count": 40,
   "id": "45127860",
   "metadata": {},
   "outputs": [
    {
     "data": {
      "text/plain": [
       "[array([[ 1,  2],\n",
       "        [ 5,  6],\n",
       "        [ 9, 10],\n",
       "        [13, 14]]),\n",
       " array([[ 3,  4],\n",
       "        [ 7,  8],\n",
       "        [11, 12],\n",
       "        [15, 16]])]"
      ]
     },
     "execution_count": 40,
     "metadata": {},
     "output_type": "execute_result"
    }
   ],
   "source": [
    "np.split(arr1,2,axis=1)"
   ]
  },
  {
   "cell_type": "code",
   "execution_count": 41,
   "id": "d06e5573",
   "metadata": {},
   "outputs": [
    {
     "data": {
      "text/plain": [
       "[array([[ 1],\n",
       "        [ 5],\n",
       "        [ 9],\n",
       "        [13]]),\n",
       " array([[ 2],\n",
       "        [ 6],\n",
       "        [10],\n",
       "        [14]]),\n",
       " array([[ 3],\n",
       "        [ 7],\n",
       "        [11],\n",
       "        [15]]),\n",
       " array([[ 4],\n",
       "        [ 8],\n",
       "        [12],\n",
       "        [16]])]"
      ]
     },
     "execution_count": 41,
     "metadata": {},
     "output_type": "execute_result"
    }
   ],
   "source": [
    "np.split(arr1,4,axis=1)"
   ]
  },
  {
   "cell_type": "code",
   "execution_count": 42,
   "id": "dac6790f",
   "metadata": {},
   "outputs": [],
   "source": [
    "d1=np.array([4,5,6,7,8,9])"
   ]
  },
  {
   "cell_type": "code",
   "execution_count": 43,
   "id": "ca0a1e86",
   "metadata": {},
   "outputs": [
    {
     "data": {
      "text/plain": [
       "[array([4]), array([5, 6]), array([7, 8, 9])]"
      ]
     },
     "execution_count": 43,
     "metadata": {},
     "output_type": "execute_result"
    }
   ],
   "source": [
    "np.split(d1,[1,3])"
   ]
  },
  {
   "cell_type": "code",
   "execution_count": null,
   "id": "77dc9461",
   "metadata": {},
   "outputs": [],
   "source": []
  }
 ],
 "metadata": {
  "kernelspec": {
   "display_name": "Python 3 (ipykernel)",
   "language": "python",
   "name": "python3"
  },
  "language_info": {
   "codemirror_mode": {
    "name": "ipython",
    "version": 3
   },
   "file_extension": ".py",
   "mimetype": "text/x-python",
   "name": "python",
   "nbconvert_exporter": "python",
   "pygments_lexer": "ipython3",
   "version": "3.10.2"
  }
 },
 "nbformat": 4,
 "nbformat_minor": 5
}
