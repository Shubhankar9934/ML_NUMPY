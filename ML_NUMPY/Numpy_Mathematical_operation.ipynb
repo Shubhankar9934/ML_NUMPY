{
 "cells": [
  {
   "cell_type": "code",
   "execution_count": 1,
   "id": "c7b37d81",
   "metadata": {},
   "outputs": [],
   "source": [
    "import numpy as np"
   ]
  },
  {
   "cell_type": "code",
   "execution_count": 2,
   "id": "4531b100",
   "metadata": {},
   "outputs": [],
   "source": [
    "arr_1= np.arange(1,10).reshape(3,3)"
   ]
  },
  {
   "cell_type": "code",
   "execution_count": 3,
   "id": "b9b234c0",
   "metadata": {},
   "outputs": [
    {
     "name": "stdout",
     "output_type": "stream",
     "text": [
      "[[1 2 3]\n",
      " [4 5 6]\n",
      " [7 8 9]]\n"
     ]
    }
   ],
   "source": [
    "print(arr_1)"
   ]
  },
  {
   "cell_type": "code",
   "execution_count": 4,
   "id": "80895b7d",
   "metadata": {},
   "outputs": [],
   "source": [
    "arr_2=np.arange(3,21,2).reshape(3,3)"
   ]
  },
  {
   "cell_type": "code",
   "execution_count": 5,
   "id": "7eef5bf5",
   "metadata": {},
   "outputs": [
    {
     "name": "stdout",
     "output_type": "stream",
     "text": [
      "[[ 3  5  7]\n",
      " [ 9 11 13]\n",
      " [15 17 19]]\n"
     ]
    }
   ],
   "source": [
    "print(arr_2)"
   ]
  },
  {
   "cell_type": "markdown",
   "id": "9a20f4fa",
   "metadata": {},
   "source": [
    "# Add"
   ]
  },
  {
   "cell_type": "code",
   "execution_count": 10,
   "id": "db8f783a",
   "metadata": {},
   "outputs": [
    {
     "data": {
      "text/plain": [
       "array([[ 4,  7, 10],\n",
       "       [13, 16, 19],\n",
       "       [22, 25, 28]])"
      ]
     },
     "execution_count": 10,
     "metadata": {},
     "output_type": "execute_result"
    }
   ],
   "source": [
    "arr_1+arr_2"
   ]
  },
  {
   "cell_type": "code",
   "execution_count": 6,
   "id": "31b929dc",
   "metadata": {},
   "outputs": [
    {
     "data": {
      "text/plain": [
       "array([[ 4,  7, 10],\n",
       "       [13, 16, 19],\n",
       "       [22, 25, 28]])"
      ]
     },
     "execution_count": 6,
     "metadata": {},
     "output_type": "execute_result"
    }
   ],
   "source": [
    "np.add(arr_1,arr_2)"
   ]
  },
  {
   "cell_type": "markdown",
   "id": "e147b3a1",
   "metadata": {},
   "source": [
    "# Subtract"
   ]
  },
  {
   "cell_type": "code",
   "execution_count": 11,
   "id": "0d02f0cc",
   "metadata": {
    "scrolled": true
   },
   "outputs": [
    {
     "data": {
      "text/plain": [
       "array([[ -2,  -3,  -4],\n",
       "       [ -5,  -6,  -7],\n",
       "       [ -8,  -9, -10]])"
      ]
     },
     "execution_count": 11,
     "metadata": {},
     "output_type": "execute_result"
    }
   ],
   "source": [
    "arr_1-arr_2"
   ]
  },
  {
   "cell_type": "code",
   "execution_count": 15,
   "id": "d2a7a998",
   "metadata": {},
   "outputs": [
    {
     "data": {
      "text/plain": [
       "array([[ -2,  -3,  -4],\n",
       "       [ -5,  -6,  -7],\n",
       "       [ -8,  -9, -10]])"
      ]
     },
     "execution_count": 15,
     "metadata": {},
     "output_type": "execute_result"
    }
   ],
   "source": [
    "np.subtract(arr_1,arr_2)"
   ]
  },
  {
   "cell_type": "markdown",
   "id": "0594967b",
   "metadata": {},
   "source": [
    "# Multiply"
   ]
  },
  {
   "cell_type": "code",
   "execution_count": 16,
   "id": "b95ff06d",
   "metadata": {},
   "outputs": [
    {
     "data": {
      "text/plain": [
       "array([[  3,  10,  21],\n",
       "       [ 36,  55,  78],\n",
       "       [105, 136, 171]])"
      ]
     },
     "execution_count": 16,
     "metadata": {},
     "output_type": "execute_result"
    }
   ],
   "source": [
    "arr_1*arr_2"
   ]
  },
  {
   "cell_type": "code",
   "execution_count": 8,
   "id": "e5f0229a",
   "metadata": {},
   "outputs": [
    {
     "data": {
      "text/plain": [
       "array([[  3,  10,  21],\n",
       "       [ 36,  55,  78],\n",
       "       [105, 136, 171]])"
      ]
     },
     "execution_count": 8,
     "metadata": {},
     "output_type": "execute_result"
    }
   ],
   "source": [
    "np.multiply(arr_1,arr_2)"
   ]
  },
  {
   "cell_type": "markdown",
   "id": "b4d811dd",
   "metadata": {},
   "source": [
    "# Divide"
   ]
  },
  {
   "cell_type": "code",
   "execution_count": 17,
   "id": "6a33c0f0",
   "metadata": {},
   "outputs": [
    {
     "data": {
      "text/plain": [
       "array([[0.33333333, 0.4       , 0.42857143],\n",
       "       [0.44444444, 0.45454545, 0.46153846],\n",
       "       [0.46666667, 0.47058824, 0.47368421]])"
      ]
     },
     "execution_count": 17,
     "metadata": {},
     "output_type": "execute_result"
    }
   ],
   "source": [
    "arr_1/arr_2"
   ]
  },
  {
   "cell_type": "code",
   "execution_count": 18,
   "id": "c1c74b4c",
   "metadata": {},
   "outputs": [
    {
     "data": {
      "text/plain": [
       "array([[0.33333333, 0.4       , 0.42857143],\n",
       "       [0.44444444, 0.45454545, 0.46153846],\n",
       "       [0.46666667, 0.47058824, 0.47368421]])"
      ]
     },
     "execution_count": 18,
     "metadata": {},
     "output_type": "execute_result"
    }
   ],
   "source": [
    "np.divide(arr_1,arr_2)"
   ]
  },
  {
   "cell_type": "markdown",
   "id": "74ccfb88",
   "metadata": {},
   "source": [
    "# Matrix Multiplication"
   ]
  },
  {
   "cell_type": "code",
   "execution_count": 19,
   "id": "147d463d",
   "metadata": {},
   "outputs": [
    {
     "data": {
      "text/plain": [
       "array([[ 66,  78,  90],\n",
       "       [147, 177, 207],\n",
       "       [228, 276, 324]])"
      ]
     },
     "execution_count": 19,
     "metadata": {},
     "output_type": "execute_result"
    }
   ],
   "source": [
    "arr_1@arr_2"
   ]
  },
  {
   "cell_type": "code",
   "execution_count": 20,
   "id": "a27bc7aa",
   "metadata": {},
   "outputs": [
    {
     "data": {
      "text/plain": [
       "array([[ 66,  78,  90],\n",
       "       [147, 177, 207],\n",
       "       [228, 276, 324]])"
      ]
     },
     "execution_count": 20,
     "metadata": {},
     "output_type": "execute_result"
    }
   ],
   "source": [
    "arr_1.dot(arr_2)"
   ]
  },
  {
   "cell_type": "markdown",
   "id": "436b5a78",
   "metadata": {},
   "source": [
    "# finding maximum value in an array using max() function."
   ]
  },
  {
   "cell_type": "code",
   "execution_count": 21,
   "id": "c017db59",
   "metadata": {},
   "outputs": [
    {
     "data": {
      "text/plain": [
       "9"
      ]
     },
     "execution_count": 21,
     "metadata": {},
     "output_type": "execute_result"
    }
   ],
   "source": [
    "arr_1.max()"
   ]
  },
  {
   "cell_type": "code",
   "execution_count": 22,
   "id": "8ef7f938",
   "metadata": {},
   "outputs": [
    {
     "data": {
      "text/plain": [
       "array([[1, 2, 3],\n",
       "       [4, 5, 6],\n",
       "       [7, 8, 9]])"
      ]
     },
     "execution_count": 22,
     "metadata": {},
     "output_type": "execute_result"
    }
   ],
   "source": [
    "arr_1"
   ]
  },
  {
   "cell_type": "code",
   "execution_count": 23,
   "id": "4cb36b20",
   "metadata": {},
   "outputs": [
    {
     "data": {
      "text/plain": [
       "19"
      ]
     },
     "execution_count": 23,
     "metadata": {},
     "output_type": "execute_result"
    }
   ],
   "source": [
    "arr_2.max()\n"
   ]
  },
  {
   "cell_type": "code",
   "execution_count": 24,
   "id": "173ef7fd",
   "metadata": {},
   "outputs": [
    {
     "data": {
      "text/plain": [
       "array([[ 3,  5,  7],\n",
       "       [ 9, 11, 13],\n",
       "       [15, 17, 19]])"
      ]
     },
     "execution_count": 24,
     "metadata": {},
     "output_type": "execute_result"
    }
   ],
   "source": [
    "arr_2"
   ]
  },
  {
   "cell_type": "markdown",
   "id": "061bd0d4",
   "metadata": {},
   "source": [
    "# finding minimum value in an array using min() function"
   ]
  },
  {
   "cell_type": "code",
   "execution_count": 32,
   "id": "51bacf65",
   "metadata": {},
   "outputs": [
    {
     "data": {
      "text/plain": [
       "array([[1, 2, 3],\n",
       "       [4, 5, 6],\n",
       "       [7, 8, 9]])"
      ]
     },
     "execution_count": 32,
     "metadata": {},
     "output_type": "execute_result"
    }
   ],
   "source": [
    "arr_1"
   ]
  },
  {
   "cell_type": "code",
   "execution_count": 33,
   "id": "8484715d",
   "metadata": {},
   "outputs": [
    {
     "data": {
      "text/plain": [
       "1"
      ]
     },
     "execution_count": 33,
     "metadata": {},
     "output_type": "execute_result"
    }
   ],
   "source": [
    "arr_1.min()"
   ]
  },
  {
   "cell_type": "code",
   "execution_count": 34,
   "id": "c16d9fe4",
   "metadata": {},
   "outputs": [
    {
     "data": {
      "text/plain": [
       "array([[ 3,  5,  7],\n",
       "       [ 9, 11, 13],\n",
       "       [15, 17, 19]])"
      ]
     },
     "execution_count": 34,
     "metadata": {},
     "output_type": "execute_result"
    }
   ],
   "source": [
    "arr_2"
   ]
  },
  {
   "cell_type": "code",
   "execution_count": 35,
   "id": "5414124d",
   "metadata": {},
   "outputs": [
    {
     "data": {
      "text/plain": [
       "3"
      ]
     },
     "execution_count": 35,
     "metadata": {},
     "output_type": "execute_result"
    }
   ],
   "source": [
    "arr_2.min()"
   ]
  },
  {
   "cell_type": "markdown",
   "id": "ae1ea0b8",
   "metadata": {},
   "source": [
    "# function to finding the index of maximum value."
   ]
  },
  {
   "cell_type": "code",
   "execution_count": 25,
   "id": "49ccdfa1",
   "metadata": {},
   "outputs": [
    {
     "data": {
      "text/plain": [
       "array([[1, 2, 3],\n",
       "       [4, 5, 6],\n",
       "       [7, 8, 9]])"
      ]
     },
     "execution_count": 25,
     "metadata": {},
     "output_type": "execute_result"
    }
   ],
   "source": [
    "arr_1"
   ]
  },
  {
   "cell_type": "code",
   "execution_count": 26,
   "id": "214ae57f",
   "metadata": {},
   "outputs": [
    {
     "data": {
      "text/plain": [
       "8"
      ]
     },
     "execution_count": 26,
     "metadata": {},
     "output_type": "execute_result"
    }
   ],
   "source": [
    "arr_1.argmax()"
   ]
  },
  {
   "cell_type": "code",
   "execution_count": 27,
   "id": "a93f5d1e",
   "metadata": {},
   "outputs": [
    {
     "data": {
      "text/plain": [
       "array([[ 3,  5,  7],\n",
       "       [ 9, 11, 13],\n",
       "       [15, 17, 19]])"
      ]
     },
     "execution_count": 27,
     "metadata": {},
     "output_type": "execute_result"
    }
   ],
   "source": [
    "arr_2"
   ]
  },
  {
   "cell_type": "code",
   "execution_count": 28,
   "id": "6509d377",
   "metadata": {},
   "outputs": [
    {
     "data": {
      "text/plain": [
       "8"
      ]
     },
     "execution_count": 28,
     "metadata": {},
     "output_type": "execute_result"
    }
   ],
   "source": [
    "arr_2.argmax()"
   ]
  },
  {
   "cell_type": "markdown",
   "id": "51304720",
   "metadata": {},
   "source": [
    "# function to finding the index of minimum value."
   ]
  },
  {
   "cell_type": "code",
   "execution_count": 36,
   "id": "e36fbb0d",
   "metadata": {},
   "outputs": [
    {
     "data": {
      "text/plain": [
       "array([[1, 2, 3],\n",
       "       [4, 5, 6],\n",
       "       [7, 8, 9]])"
      ]
     },
     "execution_count": 36,
     "metadata": {},
     "output_type": "execute_result"
    }
   ],
   "source": [
    "arr_1"
   ]
  },
  {
   "cell_type": "code",
   "execution_count": 37,
   "id": "91793c44",
   "metadata": {},
   "outputs": [
    {
     "data": {
      "text/plain": [
       "0"
      ]
     },
     "execution_count": 37,
     "metadata": {},
     "output_type": "execute_result"
    }
   ],
   "source": [
    "arr_1.argmin()"
   ]
  },
  {
   "cell_type": "code",
   "execution_count": 38,
   "id": "2089b11a",
   "metadata": {},
   "outputs": [
    {
     "data": {
      "text/plain": [
       "array([[ 3,  5,  7],\n",
       "       [ 9, 11, 13],\n",
       "       [15, 17, 19]])"
      ]
     },
     "execution_count": 38,
     "metadata": {},
     "output_type": "execute_result"
    }
   ],
   "source": [
    "arr_2"
   ]
  },
  {
   "cell_type": "code",
   "execution_count": 39,
   "id": "e4e1d383",
   "metadata": {},
   "outputs": [
    {
     "data": {
      "text/plain": [
       "0"
      ]
     },
     "execution_count": 39,
     "metadata": {},
     "output_type": "execute_result"
    }
   ],
   "source": [
    "arr_2.argmin()"
   ]
  },
  {
   "cell_type": "markdown",
   "id": "32555d42",
   "metadata": {},
   "source": [
    "# finding maxium value in each column or each row of a given matrix."
   ]
  },
  {
   "cell_type": "code",
   "execution_count": 29,
   "id": "c68fe7de",
   "metadata": {},
   "outputs": [
    {
     "data": {
      "text/plain": [
       "array([[1, 2, 3],\n",
       "       [4, 5, 6],\n",
       "       [7, 8, 9]])"
      ]
     },
     "execution_count": 29,
     "metadata": {},
     "output_type": "execute_result"
    }
   ],
   "source": [
    "arr_1"
   ]
  },
  {
   "cell_type": "code",
   "execution_count": 30,
   "id": "9856b44b",
   "metadata": {},
   "outputs": [
    {
     "data": {
      "text/plain": [
       "array([7, 8, 9])"
      ]
     },
     "execution_count": 30,
     "metadata": {},
     "output_type": "execute_result"
    }
   ],
   "source": [
    "arr_1.max(axis = 0) # where zero represent column and 1 represent row."
   ]
  },
  {
   "cell_type": "code",
   "execution_count": 31,
   "id": "d0fa2a76",
   "metadata": {},
   "outputs": [
    {
     "data": {
      "text/plain": [
       "array([3, 6, 9])"
      ]
     },
     "execution_count": 31,
     "metadata": {},
     "output_type": "execute_result"
    }
   ],
   "source": [
    "arr_1.max(axis = 1) # where zero represent column and 1 represent row."
   ]
  },
  {
   "cell_type": "markdown",
   "id": "8c35dff5",
   "metadata": {},
   "source": [
    "# finding maxium value in each column or each row of a given matrix.\n"
   ]
  },
  {
   "cell_type": "code",
   "execution_count": 40,
   "id": "83900487",
   "metadata": {},
   "outputs": [
    {
     "data": {
      "text/plain": [
       "array([[1, 2, 3],\n",
       "       [4, 5, 6],\n",
       "       [7, 8, 9]])"
      ]
     },
     "execution_count": 40,
     "metadata": {},
     "output_type": "execute_result"
    }
   ],
   "source": [
    "arr_1"
   ]
  },
  {
   "cell_type": "code",
   "execution_count": 41,
   "id": "6061c30f",
   "metadata": {},
   "outputs": [
    {
     "data": {
      "text/plain": [
       "array([1, 2, 3])"
      ]
     },
     "execution_count": 41,
     "metadata": {},
     "output_type": "execute_result"
    }
   ],
   "source": [
    "arr_1.min(axis=0) # where zero represent column and 1 represent row."
   ]
  },
  {
   "cell_type": "code",
   "execution_count": 42,
   "id": "62d11f91",
   "metadata": {},
   "outputs": [
    {
     "data": {
      "text/plain": [
       "array([1, 4, 7])"
      ]
     },
     "execution_count": 42,
     "metadata": {},
     "output_type": "execute_result"
    }
   ],
   "source": [
    "arr_1.min(axis = 1) # where zero represent column and 1 represent row."
   ]
  },
  {
   "cell_type": "markdown",
   "id": "945200c7",
   "metadata": {},
   "source": [
    "# finding Sum of all element of an array."
   ]
  },
  {
   "cell_type": "code",
   "execution_count": 43,
   "id": "761f1d3a",
   "metadata": {},
   "outputs": [
    {
     "data": {
      "text/plain": [
       "array([[1, 2, 3],\n",
       "       [4, 5, 6],\n",
       "       [7, 8, 9]])"
      ]
     },
     "execution_count": 43,
     "metadata": {},
     "output_type": "execute_result"
    }
   ],
   "source": [
    "arr_1"
   ]
  },
  {
   "cell_type": "code",
   "execution_count": 44,
   "id": "bb60b207",
   "metadata": {},
   "outputs": [
    {
     "data": {
      "text/plain": [
       "45"
      ]
     },
     "execution_count": 44,
     "metadata": {},
     "output_type": "execute_result"
    }
   ],
   "source": [
    "arr_1.sum() #a.sum(axis=None, dtype=None, out=None, keepdims=False, initial=0, where=True)"
   ]
  },
  {
   "cell_type": "code",
   "execution_count": 45,
   "id": "242739c6",
   "metadata": {},
   "outputs": [
    {
     "data": {
      "text/plain": [
       "array([[ 3,  5,  7],\n",
       "       [ 9, 11, 13],\n",
       "       [15, 17, 19]])"
      ]
     },
     "execution_count": 45,
     "metadata": {},
     "output_type": "execute_result"
    }
   ],
   "source": [
    "arr_2"
   ]
  },
  {
   "cell_type": "code",
   "execution_count": 46,
   "id": "b3eb9421",
   "metadata": {},
   "outputs": [
    {
     "data": {
      "text/plain": [
       "99"
      ]
     },
     "execution_count": 46,
     "metadata": {},
     "output_type": "execute_result"
    }
   ],
   "source": [
    "arr_2.sum() #a.sum(axis=None, dtype=None, out=None, keepdims=False, initial=0, where=True)"
   ]
  },
  {
   "cell_type": "markdown",
   "id": "80be78fc",
   "metadata": {},
   "source": [
    "# finding the sum of column or row of an array"
   ]
  },
  {
   "cell_type": "code",
   "execution_count": 50,
   "id": "9519ff1b",
   "metadata": {},
   "outputs": [
    {
     "data": {
      "text/plain": [
       "array([[1, 2, 3],\n",
       "       [4, 5, 6],\n",
       "       [7, 8, 9]])"
      ]
     },
     "execution_count": 50,
     "metadata": {},
     "output_type": "execute_result"
    }
   ],
   "source": [
    "arr_1"
   ]
  },
  {
   "cell_type": "code",
   "execution_count": 49,
   "id": "144f9e29",
   "metadata": {},
   "outputs": [
    {
     "data": {
      "text/plain": [
       "array([ 6, 15, 24])"
      ]
     },
     "execution_count": 49,
     "metadata": {},
     "output_type": "execute_result"
    }
   ],
   "source": [
    "arr_1.sum(axis=1) # sum of all row "
   ]
  },
  {
   "cell_type": "code",
   "execution_count": 51,
   "id": "845ee0c0",
   "metadata": {},
   "outputs": [
    {
     "data": {
      "text/plain": [
       "array([12, 15, 18])"
      ]
     },
     "execution_count": 51,
     "metadata": {},
     "output_type": "execute_result"
    }
   ],
   "source": [
    "arr_1.sum(axis=0) # sum of all column."
   ]
  },
  {
   "cell_type": "markdown",
   "id": "021c1c8e",
   "metadata": {},
   "source": [
    "# finding mean/avg of all element of a Matrix\n"
   ]
  },
  {
   "cell_type": "code",
   "execution_count": 52,
   "id": "2cb8e0e1",
   "metadata": {},
   "outputs": [
    {
     "data": {
      "text/plain": [
       "5.0"
      ]
     },
     "execution_count": 52,
     "metadata": {},
     "output_type": "execute_result"
    }
   ],
   "source": [
    "np.mean(arr_1)\n"
   ]
  },
  {
   "cell_type": "code",
   "execution_count": 53,
   "id": "7b34e42a",
   "metadata": {},
   "outputs": [
    {
     "data": {
      "text/plain": [
       "5.0"
      ]
     },
     "execution_count": 53,
     "metadata": {},
     "output_type": "execute_result"
    }
   ],
   "source": [
    "arr_1.mean()"
   ]
  },
  {
   "cell_type": "code",
   "execution_count": 56,
   "id": "a838a381",
   "metadata": {},
   "outputs": [],
   "source": [
    "avg=arr_1.sum()/9"
   ]
  },
  {
   "cell_type": "code",
   "execution_count": 57,
   "id": "2d9b0d3a",
   "metadata": {},
   "outputs": [
    {
     "name": "stdout",
     "output_type": "stream",
     "text": [
      "5.0\n"
     ]
    }
   ],
   "source": [
    "print(avg)"
   ]
  },
  {
   "cell_type": "markdown",
   "id": "d7c81282",
   "metadata": {},
   "source": [
    "# Finding Square Root Of All Element of a matrix."
   ]
  },
  {
   "cell_type": "code",
   "execution_count": 58,
   "id": "5e2902d8",
   "metadata": {},
   "outputs": [
    {
     "data": {
      "text/plain": [
       "array([[1.        , 1.41421356, 1.73205081],\n",
       "       [2.        , 2.23606798, 2.44948974],\n",
       "       [2.64575131, 2.82842712, 3.        ]])"
      ]
     },
     "execution_count": 58,
     "metadata": {},
     "output_type": "execute_result"
    }
   ],
   "source": [
    "np.sqrt(arr_1)"
   ]
  },
  {
   "cell_type": "markdown",
   "id": "2c75b23c",
   "metadata": {},
   "source": [
    "# Finding Standard Division Of a Matrix."
   ]
  },
  {
   "cell_type": "code",
   "execution_count": 60,
   "id": "27bc5a9b",
   "metadata": {},
   "outputs": [
    {
     "data": {
      "text/plain": [
       "2.581988897471611"
      ]
     },
     "execution_count": 60,
     "metadata": {},
     "output_type": "execute_result"
    }
   ],
   "source": [
    "np.std(arr_1)"
   ]
  },
  {
   "cell_type": "code",
   "execution_count": 61,
   "id": "a4cd55e3",
   "metadata": {},
   "outputs": [
    {
     "data": {
      "text/plain": [
       "5.163977794943222"
      ]
     },
     "execution_count": 61,
     "metadata": {},
     "output_type": "execute_result"
    }
   ],
   "source": [
    "np.std(arr_2)"
   ]
  },
  {
   "cell_type": "markdown",
   "id": "7c8aa20a",
   "metadata": {},
   "source": [
    "# Finding Exponent of all element of a Matrix."
   ]
  },
  {
   "cell_type": "code",
   "execution_count": 62,
   "id": "9d430785",
   "metadata": {},
   "outputs": [
    {
     "data": {
      "text/plain": [
       "array([[2.71828183e+00, 7.38905610e+00, 2.00855369e+01],\n",
       "       [5.45981500e+01, 1.48413159e+02, 4.03428793e+02],\n",
       "       [1.09663316e+03, 2.98095799e+03, 8.10308393e+03]])"
      ]
     },
     "execution_count": 62,
     "metadata": {},
     "output_type": "execute_result"
    }
   ],
   "source": [
    "np.exp(arr_1)"
   ]
  },
  {
   "cell_type": "code",
   "execution_count": 63,
   "id": "0595ac69",
   "metadata": {},
   "outputs": [
    {
     "data": {
      "text/plain": [
       "array([[2.00855369e+01, 1.48413159e+02, 1.09663316e+03],\n",
       "       [8.10308393e+03, 5.98741417e+04, 4.42413392e+05],\n",
       "       [3.26901737e+06, 2.41549528e+07, 1.78482301e+08]])"
      ]
     },
     "execution_count": 63,
     "metadata": {},
     "output_type": "execute_result"
    }
   ],
   "source": [
    "np.exp(arr_2)"
   ]
  },
  {
   "cell_type": "markdown",
   "id": "361e9688",
   "metadata": {},
   "source": [
    "# Finding Log of all element of a Matrix."
   ]
  },
  {
   "cell_type": "code",
   "execution_count": 64,
   "id": "6beb4202",
   "metadata": {},
   "outputs": [
    {
     "data": {
      "text/plain": [
       "array([[0.        , 0.69314718, 1.09861229],\n",
       "       [1.38629436, 1.60943791, 1.79175947],\n",
       "       [1.94591015, 2.07944154, 2.19722458]])"
      ]
     },
     "execution_count": 64,
     "metadata": {},
     "output_type": "execute_result"
    }
   ],
   "source": [
    "np.log(arr_1)"
   ]
  },
  {
   "cell_type": "code",
   "execution_count": 65,
   "id": "4e565deb",
   "metadata": {},
   "outputs": [
    {
     "data": {
      "text/plain": [
       "array([[1.09861229, 1.60943791, 1.94591015],\n",
       "       [2.19722458, 2.39789527, 2.56494936],\n",
       "       [2.7080502 , 2.83321334, 2.94443898]])"
      ]
     },
     "execution_count": 65,
     "metadata": {},
     "output_type": "execute_result"
    }
   ],
   "source": [
    "np.log(arr_2)"
   ]
  },
  {
   "cell_type": "code",
   "execution_count": 66,
   "id": "b350ca15",
   "metadata": {},
   "outputs": [
    {
     "data": {
      "text/plain": [
       "array([[0.        , 0.30103   , 0.47712125],\n",
       "       [0.60205999, 0.69897   , 0.77815125],\n",
       "       [0.84509804, 0.90308999, 0.95424251]])"
      ]
     },
     "execution_count": 66,
     "metadata": {},
     "output_type": "execute_result"
    }
   ],
   "source": [
    "np.log10(arr_1)"
   ]
  },
  {
   "cell_type": "code",
   "execution_count": 67,
   "id": "51b9c110",
   "metadata": {},
   "outputs": [
    {
     "data": {
      "text/plain": [
       "array([[0.47712125, 0.69897   , 0.84509804],\n",
       "       [0.95424251, 1.04139269, 1.11394335],\n",
       "       [1.17609126, 1.23044892, 1.2787536 ]])"
      ]
     },
     "execution_count": 67,
     "metadata": {},
     "output_type": "execute_result"
    }
   ],
   "source": [
    "np.log10(arr_2)"
   ]
  },
  {
   "cell_type": "code",
   "execution_count": null,
   "id": "4c8e64f7",
   "metadata": {},
   "outputs": [],
   "source": []
  }
 ],
 "metadata": {
  "kernelspec": {
   "display_name": "Python 3 (ipykernel)",
   "language": "python",
   "name": "python3"
  },
  "language_info": {
   "codemirror_mode": {
    "name": "ipython",
    "version": 3
   },
   "file_extension": ".py",
   "mimetype": "text/x-python",
   "name": "python",
   "nbconvert_exporter": "python",
   "pygments_lexer": "ipython3",
   "version": "3.10.2"
  }
 },
 "nbformat": 4,
 "nbformat_minor": 5
}
