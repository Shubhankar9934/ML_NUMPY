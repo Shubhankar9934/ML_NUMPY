{
 "cells": [
  {
   "cell_type": "markdown",
   "id": "1795cd51",
   "metadata": {},
   "source": [
    "# Random Sampling with Numpy"
   ]
  },
  {
   "cell_type": "code",
   "execution_count": 1,
   "id": "5a19fca4",
   "metadata": {},
   "outputs": [],
   "source": [
    "import numpy as np\n",
    "import random\n"
   ]
  },
  {
   "cell_type": "code",
   "execution_count": 3,
   "id": "a30d2ff1",
   "metadata": {},
   "outputs": [
    {
     "data": {
      "text/plain": [
       "array([0.85143007])"
      ]
     },
     "execution_count": 3,
     "metadata": {},
     "output_type": "execute_result"
    }
   ],
   "source": [
    "np.random.random(1)# Generates one random value"
   ]
  },
  {
   "cell_type": "code",
   "execution_count": 4,
   "id": "026e9c6f",
   "metadata": {},
   "outputs": [
    {
     "data": {
      "text/plain": [
       "array([[0.35439484, 0.38953538, 0.28055673],\n",
       "       [0.53035468, 0.55579871, 0.72293691],\n",
       "       [0.52711611, 0.33465594, 0.44460149]])"
      ]
     },
     "execution_count": 4,
     "metadata": {},
     "output_type": "execute_result"
    }
   ],
   "source": [
    "np.random.random((3,3)) # Generates 3X3 random value"
   ]
  },
  {
   "cell_type": "code",
   "execution_count": 9,
   "id": "a3510048",
   "metadata": {},
   "outputs": [
    {
     "data": {
      "text/plain": [
       "2"
      ]
     },
     "execution_count": 9,
     "metadata": {},
     "output_type": "execute_result"
    }
   ],
   "source": [
    "np.random.randint(1,4) # Generates Random value with integer between specified range."
   ]
  },
  {
   "cell_type": "code",
   "execution_count": 10,
   "id": "1d7fecaa",
   "metadata": {},
   "outputs": [
    {
     "data": {
      "text/plain": [
       "array([[2, 2, 3, 1],\n",
       "       [3, 2, 1, 3],\n",
       "       [1, 3, 3, 2],\n",
       "       [2, 1, 2, 2]])"
      ]
     },
     "execution_count": 10,
     "metadata": {},
     "output_type": "execute_result"
    }
   ],
   "source": [
    "np.random.randint(1,4,(4,4))"
   ]
  },
  {
   "cell_type": "code",
   "execution_count": 12,
   "id": "f4981ef9",
   "metadata": {},
   "outputs": [
    {
     "data": {
      "text/plain": [
       "array([[[3, 2, 3],\n",
       "        [3, 3, 2],\n",
       "        [3, 2, 1]],\n",
       "\n",
       "       [[1, 3, 3],\n",
       "        [2, 1, 1],\n",
       "        [1, 3, 2]]])"
      ]
     },
     "execution_count": 12,
     "metadata": {},
     "output_type": "execute_result"
    }
   ],
   "source": [
    "np.random.randint(1,4,(2,3,3))"
   ]
  },
  {
   "cell_type": "code",
   "execution_count": 13,
   "id": "efe5bba8",
   "metadata": {},
   "outputs": [
    {
     "data": {
      "text/plain": [
       "array([[[2, 2, 1, 4],\n",
       "        [1, 2, 4, 1],\n",
       "        [2, 2, 1, 2],\n",
       "        [2, 3, 1, 2]],\n",
       "\n",
       "       [[1, 3, 1, 3],\n",
       "        [1, 4, 1, 1],\n",
       "        [4, 4, 3, 1],\n",
       "        [4, 3, 3, 2]],\n",
       "\n",
       "       [[1, 1, 3, 2],\n",
       "        [4, 3, 2, 2],\n",
       "        [2, 4, 2, 3],\n",
       "        [2, 1, 3, 3]]])"
      ]
     },
     "execution_count": 13,
     "metadata": {},
     "output_type": "execute_result"
    }
   ],
   "source": [
    "np.random.seed(10) #It helps to remember the random generated value.\n",
    "np.random.randint(1,5,(3,4,4))"
   ]
  },
  {
   "cell_type": "code",
   "execution_count": 16,
   "id": "54e8ad00",
   "metadata": {},
   "outputs": [
    {
     "data": {
      "text/plain": [
       "array([0.30070006, 0.11398436, 0.82868133, 0.04689632, 0.62628715,\n",
       "       0.54758616, 0.819287  , 0.19894754, 0.8568503 , 0.35165264,\n",
       "       0.75464769])"
      ]
     },
     "execution_count": 16,
     "metadata": {},
     "output_type": "execute_result"
    }
   ],
   "source": [
    "np.random.rand(11)"
   ]
  },
  {
   "cell_type": "code",
   "execution_count": 17,
   "id": "c558636c",
   "metadata": {},
   "outputs": [
    {
     "data": {
      "text/plain": [
       "array([[0.29596171, 0.88393648, 0.32551164, 0.1650159 ],\n",
       "       [0.39252924, 0.09346037, 0.82110566, 0.15115202],\n",
       "       [0.38411445, 0.94426071, 0.98762547, 0.45630455]])"
      ]
     },
     "execution_count": 17,
     "metadata": {},
     "output_type": "execute_result"
    }
   ],
   "source": [
    "np.random.rand(3,4) # Generates Random value between (0,1)"
   ]
  },
  {
   "cell_type": "code",
   "execution_count": 18,
   "id": "c2f615ce",
   "metadata": {},
   "outputs": [
    {
     "data": {
      "text/plain": [
       "array([[-0.53987907,  0.70816002,  0.84222474],\n",
       "       [ 0.2035808 ,  2.39470366,  0.91745894],\n",
       "       [-0.11227247, -0.36218045, -0.23218226]])"
      ]
     },
     "execution_count": 18,
     "metadata": {},
     "output_type": "execute_result"
    }
   ],
   "source": [
    "np.random.randn(3,3)# Gives random positive and negative value.(between -1,1)"
   ]
  },
  {
   "cell_type": "code",
   "execution_count": 19,
   "id": "c03cc553",
   "metadata": {},
   "outputs": [
    {
     "data": {
      "text/plain": [
       "7"
      ]
     },
     "execution_count": 19,
     "metadata": {},
     "output_type": "execute_result"
    }
   ],
   "source": [
    "x=[1,5,7,9]\n",
    "np.random.choice(x)# Choice function generates the random value from x-list \n"
   ]
  },
  {
   "cell_type": "code",
   "execution_count": 21,
   "id": "470a8abe",
   "metadata": {},
   "outputs": [
    {
     "name": "stdout",
     "output_type": "stream",
     "text": [
      "1\n",
      "7\n",
      "9\n",
      "9\n",
      "9\n",
      "5\n",
      "7\n",
      "5\n",
      "5\n",
      "7\n",
      "1\n",
      "7\n",
      "5\n",
      "1\n",
      "5\n",
      "5\n",
      "1\n",
      "5\n",
      "7\n",
      "1\n"
     ]
    }
   ],
   "source": [
    "for i in range(20):\n",
    "    print(np.random.choice(x))"
   ]
  },
  {
   "cell_type": "code",
   "execution_count": 22,
   "id": "d1d22a84",
   "metadata": {},
   "outputs": [
    {
     "data": {
      "text/plain": [
       "[1, 5, 7, 9]"
      ]
     },
     "execution_count": 22,
     "metadata": {},
     "output_type": "execute_result"
    }
   ],
   "source": [
    "x"
   ]
  },
  {
   "cell_type": "code",
   "execution_count": 23,
   "id": "3d9155da",
   "metadata": {},
   "outputs": [
    {
     "data": {
      "text/plain": [
       "array([1, 5, 9, 7])"
      ]
     },
     "execution_count": 23,
     "metadata": {},
     "output_type": "execute_result"
    }
   ],
   "source": [
    "np.random.permutation(x)"
   ]
  },
  {
   "cell_type": "code",
   "execution_count": 24,
   "id": "97748e6c",
   "metadata": {},
   "outputs": [
    {
     "name": "stdout",
     "output_type": "stream",
     "text": [
      "[9 7 1 5]\n",
      "[9 7 5 1]\n",
      "[5 7 9 1]\n",
      "[5 1 9 7]\n",
      "[9 5 7 1]\n",
      "[5 1 9 7]\n",
      "[9 1 5 7]\n",
      "[7 5 1 9]\n",
      "[1 7 9 5]\n",
      "[1 9 7 5]\n",
      "[1 7 5 9]\n",
      "[5 7 1 9]\n",
      "[7 1 9 5]\n",
      "[1 9 7 5]\n",
      "[7 9 5 1]\n",
      "[7 9 5 1]\n",
      "[1 7 5 9]\n",
      "[1 9 5 7]\n",
      "[1 9 5 7]\n",
      "[7 9 1 5]\n"
     ]
    }
   ],
   "source": [
    "for i in range(20):\n",
    "    print(np.random.permutation(x))"
   ]
  },
  {
   "cell_type": "code",
   "execution_count": null,
   "id": "970ebbac",
   "metadata": {},
   "outputs": [],
   "source": []
  }
 ],
 "metadata": {
  "kernelspec": {
   "display_name": "Python 3 (ipykernel)",
   "language": "python",
   "name": "python3"
  },
  "language_info": {
   "codemirror_mode": {
    "name": "ipython",
    "version": 3
   },
   "file_extension": ".py",
   "mimetype": "text/x-python",
   "name": "python",
   "nbconvert_exporter": "python",
   "pygments_lexer": "ipython3",
   "version": "3.10.2"
  }
 },
 "nbformat": 4,
 "nbformat_minor": 5
}
