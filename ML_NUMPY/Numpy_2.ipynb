{
 "cells": [
  {
   "cell_type": "markdown",
   "id": "3b179381",
   "metadata": {},
   "source": [
    "# import numpy as np\n"
   ]
  },
  {
   "cell_type": "code",
   "execution_count": 2,
   "id": "04bc23e4",
   "metadata": {},
   "outputs": [],
   "source": [
    "m_ones=np.ones((2))"
   ]
  },
  {
   "cell_type": "code",
   "execution_count": 3,
   "id": "a41307b5",
   "metadata": {},
   "outputs": [
    {
     "data": {
      "text/plain": [
       "dtype('float64')"
      ]
     },
     "execution_count": 3,
     "metadata": {},
     "output_type": "execute_result"
    }
   ],
   "source": [
    "m_ones.dtype"
   ]
  },
  {
   "cell_type": "code",
   "execution_count": 4,
   "id": "c31b1916",
   "metadata": {},
   "outputs": [],
   "source": [
    "m_1s=np.ones((5,5))"
   ]
  },
  {
   "cell_type": "code",
   "execution_count": 5,
   "id": "430664ad",
   "metadata": {},
   "outputs": [
    {
     "data": {
      "text/plain": [
       "dtype('float64')"
      ]
     },
     "execution_count": 5,
     "metadata": {},
     "output_type": "execute_result"
    }
   ],
   "source": [
    "m_1s.dtype\n"
   ]
  },
  {
   "cell_type": "code",
   "execution_count": 6,
   "id": "86ed3730",
   "metadata": {},
   "outputs": [
    {
     "data": {
      "text/plain": [
       "(5, 5)"
      ]
     },
     "execution_count": 6,
     "metadata": {},
     "output_type": "execute_result"
    }
   ],
   "source": [
    "m_1s.shape"
   ]
  },
  {
   "cell_type": "code",
   "execution_count": 7,
   "id": "b9af81f7",
   "metadata": {},
   "outputs": [
    {
     "data": {
      "text/plain": [
       "25"
      ]
     },
     "execution_count": 7,
     "metadata": {},
     "output_type": "execute_result"
    }
   ],
   "source": [
    "m_1s.size"
   ]
  },
  {
   "cell_type": "code",
   "execution_count": 8,
   "id": "856264e7",
   "metadata": {},
   "outputs": [
    {
     "name": "stdout",
     "output_type": "stream",
     "text": [
      "[[1. 1. 1. 1. 1.]\n",
      " [1. 1. 1. 1. 1.]\n",
      " [1. 1. 1. 1. 1.]\n",
      " [1. 1. 1. 1. 1.]\n",
      " [1. 1. 1. 1. 1.]]\n"
     ]
    }
   ],
   "source": [
    "print(m_1s)"
   ]
  },
  {
   "cell_type": "code",
   "execution_count": 9,
   "id": "65767fea",
   "metadata": {},
   "outputs": [],
   "source": [
    "mx_1s=np.ones((3,4),dtype=int)"
   ]
  },
  {
   "cell_type": "code",
   "execution_count": 10,
   "id": "749e6b37",
   "metadata": {},
   "outputs": [
    {
     "name": "stdout",
     "output_type": "stream",
     "text": [
      "[[1 1 1 1]\n",
      " [1 1 1 1]\n",
      " [1 1 1 1]]\n"
     ]
    }
   ],
   "source": [
    "print(mx_1s)"
   ]
  },
  {
   "cell_type": "code",
   "execution_count": 11,
   "id": "d5af77cb",
   "metadata": {},
   "outputs": [],
   "source": [
    "mx_0s=np.zeros((5,5))"
   ]
  },
  {
   "cell_type": "code",
   "execution_count": 12,
   "id": "991bea20",
   "metadata": {},
   "outputs": [
    {
     "name": "stdout",
     "output_type": "stream",
     "text": [
      "[[0. 0. 0. 0. 0.]\n",
      " [0. 0. 0. 0. 0.]\n",
      " [0. 0. 0. 0. 0.]\n",
      " [0. 0. 0. 0. 0.]\n",
      " [0. 0. 0. 0. 0.]]\n"
     ]
    }
   ],
   "source": [
    "print(mx_0s)"
   ]
  },
  {
   "cell_type": "code",
   "execution_count": 13,
   "id": "638234ec",
   "metadata": {},
   "outputs": [],
   "source": [
    "mx_0s=np.zeros((5,5),dtype=bool)"
   ]
  },
  {
   "cell_type": "code",
   "execution_count": 14,
   "id": "419dad92",
   "metadata": {},
   "outputs": [
    {
     "name": "stdout",
     "output_type": "stream",
     "text": [
      "[[False False False False False]\n",
      " [False False False False False]\n",
      " [False False False False False]\n",
      " [False False False False False]\n",
      " [False False False False False]]\n"
     ]
    }
   ],
   "source": [
    "print(mx_0s)"
   ]
  },
  {
   "cell_type": "code",
   "execution_count": 15,
   "id": "6bf336bd",
   "metadata": {},
   "outputs": [],
   "source": [
    "mx_0s=np.zeros((5,5),dtype=str)"
   ]
  },
  {
   "cell_type": "code",
   "execution_count": 16,
   "id": "a70bdf96",
   "metadata": {},
   "outputs": [
    {
     "name": "stdout",
     "output_type": "stream",
     "text": [
      "[['' '' '' '' '']\n",
      " ['' '' '' '' '']\n",
      " ['' '' '' '' '']\n",
      " ['' '' '' '' '']\n",
      " ['' '' '' '' '']]\n"
     ]
    }
   ],
   "source": [
    "print(mx_0s)"
   ]
  },
  {
   "cell_type": "code",
   "execution_count": null,
   "id": "193c35ff",
   "metadata": {},
   "outputs": [],
   "source": []
  }
 ],
 "metadata": {
  "kernelspec": {
   "display_name": "Python 3 (ipykernel)",
   "language": "python",
   "name": "python3"
  },
  "language_info": {
   "codemirror_mode": {
    "name": "ipython",
    "version": 3
   },
   "file_extension": ".py",
   "mimetype": "text/x-python",
   "name": "python",
   "nbconvert_exporter": "python",
   "pygments_lexer": "ipython3",
   "version": "3.10.2"
  }
 },
 "nbformat": 4,
 "nbformat_minor": 5
}
